{
 "cells": [
  {
   "cell_type": "code",
   "execution_count": 1,
   "metadata": {},
   "outputs": [],
   "source": [
    "# Models from Introduction to Algorithmic Marketing\n",
    "# https://algorithmicweb.wordpress.com/\n",
    "#\n",
    "# This model optimizes prices for N consecutive time periods \n",
    "# each of which has its own demand function. It is assumed that \n",
    "# the stock level of the product is limited and the goal\n",
    "# is to sell out the stock in time maximizing the revenue."
   ]
  },
  {
   "cell_type": "code",
   "execution_count": 2,
   "metadata": {},
   "outputs": [],
   "source": [
    "%matplotlib inline\n",
    "import sympy as sy\n",
    "import numpy as np\n",
    "from tabulate import tabulate\n",
    "import matplotlib.pyplot as plt\n",
    "from scipy.optimize import linprog\n",
    "\n",
    "def tabprint(msg, A):\n",
    "    print(msg)\n",
    "    print(tabulate(A, tablefmt=\"fancy_grid\"))"
   ]
  },
  {
   "cell_type": "code",
   "execution_count": 3,
   "metadata": {},
   "outputs": [],
   "source": [
    "plevels = [89, 79, 69, 59, 49] # allowed price levels\n",
    "C = 700                        # stock level\n",
    "\n",
    "price = sy.symbols(\"price\")\n",
    "\n",
    "def rectified(f):\n",
    "    return sy.Piecewise( (0, f < 0), (f, True))\n",
    "\n",
    "# Demand functions estimated for each week of the sale\n",
    "demands = [rectified(1500 - 10*price), # week 1\n",
    "           rectified(1300 - 15*price), # week 2\n",
    "           rectified(1200 - 15*price), # week 3\n",
    "           rectified(1100 - 18*price)] # week 4"
   ]
  },
  {
   "cell_type": "code",
   "execution_count": 4,
   "metadata": {},
   "outputs": [
    {
     "name": "stdout",
     "output_type": "stream",
     "text": [
      "D =\n",
      "╒═════╤═════╤═════╤═════╤══════╕\n",
      "│ 610 │ 710 │ 810 │ 910 │ 1010 │\n",
      "├─────┼─────┼─────┼─────┼──────┤\n",
      "│   0 │ 115 │ 265 │ 415 │  565 │\n",
      "├─────┼─────┼─────┼─────┼──────┤\n",
      "│   0 │  15 │ 165 │ 315 │  465 │\n",
      "├─────┼─────┼─────┼─────┼──────┤\n",
      "│   0 │   0 │   0 │  38 │  218 │\n",
      "╘═════╧═════╧═════╧═════╧══════╛\n",
      "R =\n",
      "╒═══════╤═══════╤═══════╤═══════╤═══════╕\n",
      "│ 54290 │ 56090 │ 55890 │ 53690 │ 49490 │\n",
      "├───────┼───────┼───────┼───────┼───────┤\n",
      "│     0 │  9085 │ 18285 │ 24485 │ 27685 │\n",
      "├───────┼───────┼───────┼───────┼───────┤\n",
      "│     0 │  1185 │ 11385 │ 18585 │ 22785 │\n",
      "├───────┼───────┼───────┼───────┼───────┤\n",
      "│     0 │     0 │     0 │  2242 │ 10682 │\n",
      "╘═══════╧═══════╧═══════╧═══════╧═══════╛\n"
     ]
    }
   ],
   "source": [
    "# Evaluate values of demand functions for each price level\n",
    "D = np.array([[q.subs(price, p) for p in plevels] for q in demands])\n",
    "tabprint(\"D =\", D)\n",
    "\n",
    "# Evaluate revenue for each demand function and each price level\n",
    "R = np.array([[p*q.subs(price, p) for p in plevels] for q in demands])\n",
    "tabprint(\"R =\", R)"
   ]
  },
  {
   "cell_type": "code",
   "execution_count": 5,
   "metadata": {},
   "outputs": [],
   "source": [
    "# Now we solve the following optimization problem:\n",
    "# (q is demand, P is price, T is the number of time periods, and K is the number of price levels)"
   ]
  },
  {
   "cell_type": "markdown",
   "metadata": {},
   "source": [
    "$\\text{max} \\quad \\sum_{t=1}^{T} \\sum_{i=1}^{K} z_{it} \\cdot P_{i} \\cdot q\\left(P_{i},t\\right)$ \n",
    "\n",
    "$\\text{subject to}$\n",
    "\n",
    "$\\quad \\sum_{t=1}^{T} \\sum_{i=1}^{K} z_{it} \\cdot q\\left(P_{i},t\\right) \\le C $\n",
    "\n",
    "$\\quad \\sum_{i=1}^{K} z_{it} = 1, \\quad \\text{for}\\ t=1,\\ldots,T $\n",
    "\n",
    "$\\quad z_{it}\\ge 0 $"
   ]
  },
  {
   "cell_type": "code",
   "execution_count": 6,
   "metadata": {},
   "outputs": [
    {
     "name": "stdout",
     "output_type": "stream",
     "text": [
      "M = \n",
      "╒═══╤═══╤═══╤═══╤═══╤═══╤═══╤═══╤═══╤═══╤═══╤═══╤═══╤═══╤═══╤═══╤═══╤═══╤═══╤═══╕\n",
      "│ 1 │ 1 │ 1 │ 1 │ 1 │ 0 │ 0 │ 0 │ 0 │ 0 │ 0 │ 0 │ 0 │ 0 │ 0 │ 0 │ 0 │ 0 │ 0 │ 0 │\n",
      "├───┼───┼───┼───┼───┼───┼───┼───┼───┼───┼───┼───┼───┼───┼───┼───┼───┼───┼───┼───┤\n",
      "│ 0 │ 0 │ 0 │ 0 │ 0 │ 1 │ 1 │ 1 │ 1 │ 1 │ 0 │ 0 │ 0 │ 0 │ 0 │ 0 │ 0 │ 0 │ 0 │ 0 │\n",
      "├───┼───┼───┼───┼───┼───┼───┼───┼───┼───┼───┼───┼───┼───┼───┼───┼───┼───┼───┼───┤\n",
      "│ 0 │ 0 │ 0 │ 0 │ 0 │ 0 │ 0 │ 0 │ 0 │ 0 │ 1 │ 1 │ 1 │ 1 │ 1 │ 0 │ 0 │ 0 │ 0 │ 0 │\n",
      "├───┼───┼───┼───┼───┼───┼───┼───┼───┼───┼───┼───┼───┼───┼───┼───┼───┼───┼───┼───┤\n",
      "│ 0 │ 0 │ 0 │ 0 │ 0 │ 0 │ 0 │ 0 │ 0 │ 0 │ 0 │ 0 │ 0 │ 0 │ 0 │ 1 │ 1 │ 1 │ 1 │ 1 │\n",
      "╘═══╧═══╧═══╧═══╧═══╧═══╧═══╧═══╧═══╧═══╧═══╧═══╧═══╧═══╧═══╧═══╧═══╧═══╧═══╧═══╛\n",
      "Revenue value: $ 61400.00000012323\n",
      "Price schedule:\n",
      "╒═════════════╤═════════════╤═════════════╤═════════════╕\n",
      "│ 1           │ 0.286037    │ 0.473716    │ 0.333333    │\n",
      "├─────────────┼─────────────┼─────────────┼─────────────┤\n",
      "│ 5.07782e-13 │ 0.713963    │ 0.526284    │ 0.333333    │\n",
      "├─────────────┼─────────────┼─────────────┼─────────────┤\n",
      "│ 2.13091e-14 │ 1.70294e-12 │ 6.72462e-14 │ 0.333333    │\n",
      "├─────────────┼─────────────┼─────────────┼─────────────┤\n",
      "│ 1.14154e-14 │ 1.77188e-13 │ 2.95738e-14 │ 1.19286e-11 │\n",
      "├─────────────┼─────────────┼─────────────┼─────────────┤\n",
      "│ 1.1497e-13  │ 6.81336e-14 │ 1.26317e-13 │ 3.0576e-13  │\n",
      "╘═════════════╧═════════════╧═════════════╧═════════════╛\n"
     ]
    }
   ],
   "source": [
    "L = len(demands)*len(plevels)\n",
    "\n",
    "# First, we generate a binary mask to ensure that all z's \n",
    "# in one time interval sum up to 1.0, that is z.M = B\n",
    "M = np.array([[\n",
    "    1 if i >= len(plevels)*j and i < len(plevels)*(j+1) else 0\n",
    "    for i in range(L)\n",
    "] for j in range(len(demands))])\n",
    "\n",
    "tabprint(\"M = \", M)\n",
    "\n",
    "B = [1 for i in range(len(demands))]\n",
    "\n",
    "# Second, we ensure that the sum of all demands is less than the availbale stock level,\n",
    "# that is z.Df <= C\n",
    "Df = np.array(D).reshape(1, L)\n",
    "\n",
    "res = linprog(-np.array(R).flatten(), \n",
    "              A_eq=M, \n",
    "              b_eq=B, \n",
    "              A_ub=Df, \n",
    "              b_ub=np.array([C]), \n",
    "              bounds=(0, None))\n",
    "\n",
    "print(\"Revenue value: $\", -res.fun)\n",
    "\n",
    "# Each column of the solution matrix corresponds to a time period (one week).  \n",
    "# Each row corresponds to z value that can be interpreted as the percentage \n",
    "# of time z't price level should be used in the corresponding time period. \n",
    "tabprint(\"Price schedule:\", np.array(res.x).reshape(len(demands), len(plevels)).T)"
   ]
  },
  {
   "cell_type": "code",
   "execution_count": null,
   "metadata": {},
   "outputs": [],
   "source": []
  }
 ],
 "metadata": {
  "kernelspec": {
   "display_name": "Python 3",
   "language": "python",
   "name": "python3"
  },
  "language_info": {
   "codemirror_mode": {
    "name": "ipython",
    "version": 3
   },
   "file_extension": ".py",
   "mimetype": "text/x-python",
   "name": "python",
   "nbconvert_exporter": "python",
   "pygments_lexer": "ipython3",
   "version": "3.7.0"
  }
 },
 "nbformat": 4,
 "nbformat_minor": 2
}
